{
 "cells": [
  {
   "cell_type": "markdown",
   "id": "e2a25813",
   "metadata": {},
   "source": [
    "#### Libraries and functions uploads"
   ]
  },
  {
   "cell_type": "code",
   "execution_count": 1,
   "id": "10ef5d1d",
   "metadata": {},
   "outputs": [],
   "source": [
    "from pdf2image import convert_from_path\n",
    "import pytesseract\n",
    "import pandas as pd\n",
    "import json\n",
    "import cv2\n",
    "import numpy as np\n",
    "from pytesseract import Output\n",
    "import requests\n",
    "import json\n",
    "from dotenv import load_dotenv\n",
    "import os"
   ]
  },
  {
   "cell_type": "code",
   "execution_count": 2,
   "id": "3896a049",
   "metadata": {},
   "outputs": [],
   "source": [
    "load_dotenv()\n",
    "pytesseract.pytesseract.tesseract_cmd =  os.getenv(\"TESSERACT_CMD\")"
   ]
  },
  {
   "cell_type": "markdown",
   "id": "04c9418d",
   "metadata": {},
   "source": [
    "# PDF Parsing"
   ]
  },
  {
   "cell_type": "markdown",
   "id": "44e7be6b",
   "metadata": {},
   "source": [
    "Text is extracted from PDF files in this section. The PDFs are first converted to images and preprocessed to improve quality (grayscale and noise reduction). \n",
    "Since the font, size, and quality of each PDF are unknown in advance, a loop over multiple DPI settings is applied to select the version that produces the most characters. Although this method is not the fastest, it adapts to varying PDF qualities.  \n",
    "Further improvements could involve pixel-level analysis or using online tools with APIs.  \n",
    "The output of this step is text."
   ]
  },
  {
   "cell_type": "code",
   "execution_count": 3,
   "id": "56ae61ce",
   "metadata": {},
   "outputs": [],
   "source": [
    "from src.pdf_parser import pdf_to_text"
   ]
  },
  {
   "cell_type": "code",
   "execution_count": 4,
   "id": "5ecc589f",
   "metadata": {},
   "outputs": [
    {
     "name": "stdout",
     "output_type": "stream",
     "text": [
      "pdf parsed\n",
      "Ananas\n",
      "Ananas origine Costa Rica 34-03\n",
      "\n",
      "Residuo_misurato Quantita\n",
      "\n",
      "misura vedi nota in Italia\n",
      "Ethephon 0,27 mg/kg 0,04 2 SI -\n",
      "Fludioxonil 0,038 mg/kg 0011 7 SI :\n",
      "\n",
      "Note:\n",
      "\n",
      "——\n",
      "* == @&\n",
      "\n",
      "\n"
     ]
    }
   ],
   "source": [
    "text_1 = pdf_to_text('data/pdfs/Analysis-Example-3_B.pdf')\n",
    "print(text_1)\n",
    "\n"
   ]
  },
  {
   "cell_type": "markdown",
   "id": "f3efdc51",
   "metadata": {},
   "source": [
    "# LLM"
   ]
  },
  {
   "cell_type": "markdown",
   "id": "49f2779a",
   "metadata": {},
   "source": [
    "In this section, a LLM is used to extract a json from the raw text parsed at the previous step. The LLM is fed with a on-shot prompt, to explain how to structure the json output of this step."
   ]
  },
  {
   "cell_type": "code",
   "execution_count": 5,
   "id": "b186a45a",
   "metadata": {},
   "outputs": [],
   "source": [
    "from langchain.chat_models import init_chat_model\n",
    "import openai\n",
    "from openai import OpenAI\n",
    "load_dotenv()\n",
    "openai.api_key = os.getenv(\"OPENAI_API_KEY\")\n",
    "from src.get_llm_response import get_llm_response"
   ]
  },
  {
   "cell_type": "code",
   "execution_count": 6,
   "id": "53c6f382",
   "metadata": {},
   "outputs": [
    {
     "name": "stdout",
     "output_type": "stream",
     "text": [
      "```json\n",
      "{\n",
      "    \"Product name on the analysis report\": \"Ananas origine Costa Rica 34-03\",\n",
      "    \"Product\": \"Pineapple\",\n",
      "    \"Pesticide_molecules\": [\n",
      "        {\n",
      "            \"Molecule in the report\": \"Ethephon\",\n",
      "            \"Molecule\": \"Ethephon\",\n",
      "            \"Measured\": \"0.27\",\n",
      "            \"Unit\": \"mg/kg\"\n",
      "        },\n",
      "        {\n",
      "            \"Molecule in the report\": \"Fludioxonil\",\n",
      "            \"Molecule\": \"Fludioxonil\",\n",
      "            \"Measured\": \"0.038\",\n",
      "            \"Unit\": \"mg/kg\"\n",
      "        }\n",
      "    ]\n",
      "}\n",
      "```\n"
     ]
    }
   ],
   "source": [
    "response_1 = get_llm_response(text_1)\n",
    "print(response_1)"
   ]
  },
  {
   "cell_type": "markdown",
   "id": "02678a58",
   "metadata": {},
   "source": [
    "The output is in \"text\" format\" and the json has to be extracted. In the langgraph, a tool does it automatically."
   ]
  },
  {
   "cell_type": "code",
   "execution_count": 7,
   "id": "e8342167",
   "metadata": {},
   "outputs": [],
   "source": [
    "response_1 = response_1.strip()\n",
    "if response_1.startswith('```'):\n",
    "    response_1 = response_1.split('\\n', 1)[1]\n",
    "if response_1.endswith('```'):\n",
    "    response_1 = response_1.rsplit('\\n', 1)[0]\n",
    "json = json.loads(response_1)"
   ]
  },
  {
   "cell_type": "code",
   "execution_count": 8,
   "id": "9d756a9b",
   "metadata": {},
   "outputs": [
    {
     "data": {
      "text/plain": [
       "{'Product name on the analysis report': 'Ananas origine Costa Rica 34-03',\n",
       " 'Product': 'Pineapple',\n",
       " 'Pesticide_molecules': [{'Molecule in the report': 'Ethephon',\n",
       "   'Molecule': 'Ethephon',\n",
       "   'Measured': '0.27',\n",
       "   'Unit': 'mg/kg'},\n",
       "  {'Molecule in the report': 'Fludioxonil',\n",
       "   'Molecule': 'Fludioxonil',\n",
       "   'Measured': '0.038',\n",
       "   'Unit': 'mg/kg'}]}"
      ]
     },
     "execution_count": 8,
     "metadata": {},
     "output_type": "execute_result"
    }
   ],
   "source": [
    "json"
   ]
  },
  {
   "cell_type": "markdown",
   "id": "85e0b826",
   "metadata": {},
   "source": [
    "## API EU DB"
   ]
  },
  {
   "cell_type": "markdown",
   "id": "084072fc",
   "metadata": {},
   "source": [
    "Once the json is created, the EU databases of products and substances are used to get the information about the product_id and substance_id. "
   ]
  },
  {
   "cell_type": "code",
   "execution_count": 9,
   "id": "c0a87155",
   "metadata": {},
   "outputs": [],
   "source": [
    "import httpx"
   ]
  },
  {
   "cell_type": "code",
   "execution_count": 10,
   "id": "c3d60fa1",
   "metadata": {},
   "outputs": [],
   "source": [
    "from src.european_db_API_calls import fetch_all_data\n",
    "from src.european_db_API_calls import get_substance_mrl_EU\n",
    "from src.european_db_API_calls import get_db_pest, get_db_prod"
   ]
  },
  {
   "cell_type": "code",
   "execution_count": 11,
   "id": "cadbf327",
   "metadata": {},
   "outputs": [
    {
     "data": {
      "text/html": [
       "<div>\n",
       "<style scoped>\n",
       "    .dataframe tbody tr th:only-of-type {\n",
       "        vertical-align: middle;\n",
       "    }\n",
       "\n",
       "    .dataframe tbody tr th {\n",
       "        vertical-align: top;\n",
       "    }\n",
       "\n",
       "    .dataframe thead th {\n",
       "        text-align: right;\n",
       "    }\n",
       "</style>\n",
       "<table border=\"1\" class=\"dataframe\">\n",
       "  <thead>\n",
       "    <tr style=\"text-align: right;\">\n",
       "      <th></th>\n",
       "      <th>language</th>\n",
       "      <th>product_id</th>\n",
       "      <th>product_parent_id</th>\n",
       "      <th>product_code</th>\n",
       "      <th>product_type_id</th>\n",
       "      <th>product_name</th>\n",
       "      <th>product_scientific_names</th>\n",
       "    </tr>\n",
       "  </thead>\n",
       "  <tbody>\n",
       "    <tr>\n",
       "      <th>0</th>\n",
       "      <td>EN</td>\n",
       "      <td>379</td>\n",
       "      <td>NaN</td>\n",
       "      <td>1100000</td>\n",
       "      <td>1</td>\n",
       "      <td>PRODUCTS OF ANIMAL ORIGIN - FISH, FISHPRODUCTS...</td>\n",
       "      <td>None</td>\n",
       "    </tr>\n",
       "    <tr>\n",
       "      <th>1</th>\n",
       "      <td>EN</td>\n",
       "      <td>109</td>\n",
       "      <td>108.0</td>\n",
       "      <td>0220010</td>\n",
       "      <td>4</td>\n",
       "      <td>Garlic</td>\n",
       "      <td>Allium sativum,</td>\n",
       "    </tr>\n",
       "    <tr>\n",
       "      <th>2</th>\n",
       "      <td>EN</td>\n",
       "      <td>349</td>\n",
       "      <td>313.0</td>\n",
       "      <td>1016000</td>\n",
       "      <td>3</td>\n",
       "      <td>(f) poultry</td>\n",
       "      <td>None</td>\n",
       "    </tr>\n",
       "    <tr>\n",
       "      <th>3</th>\n",
       "      <td>EN</td>\n",
       "      <td>338</td>\n",
       "      <td>335.0</td>\n",
       "      <td>1014030</td>\n",
       "      <td>4</td>\n",
       "      <td>Liver</td>\n",
       "      <td>None</td>\n",
       "    </tr>\n",
       "    <tr>\n",
       "      <th>4</th>\n",
       "      <td>EN</td>\n",
       "      <td>204</td>\n",
       "      <td>201.0</td>\n",
       "      <td>0300030</td>\n",
       "      <td>4</td>\n",
       "      <td>Peas</td>\n",
       "      <td>Pisum sativum,</td>\n",
       "    </tr>\n",
       "  </tbody>\n",
       "</table>\n",
       "</div>"
      ],
      "text/plain": [
       "  language  product_id  product_parent_id product_code  product_type_id  \\\n",
       "0       EN         379                NaN      1100000                1   \n",
       "1       EN         109              108.0      0220010                4   \n",
       "2       EN         349              313.0      1016000                3   \n",
       "3       EN         338              335.0      1014030                4   \n",
       "4       EN         204              201.0      0300030                4   \n",
       "\n",
       "                                        product_name product_scientific_names  \n",
       "0  PRODUCTS OF ANIMAL ORIGIN - FISH, FISHPRODUCTS...                     None  \n",
       "1                                             Garlic         Allium sativum,   \n",
       "2                                        (f) poultry                     None  \n",
       "3                                              Liver                     None  \n",
       "4                                               Peas          Pisum sativum,   "
      ]
     },
     "execution_count": 11,
     "metadata": {},
     "output_type": "execute_result"
    }
   ],
   "source": [
    "df_prod = get_db_prod()\n",
    "df_prod.head()"
   ]
  },
  {
   "cell_type": "code",
   "execution_count": 12,
   "id": "500efe99",
   "metadata": {},
   "outputs": [
    {
     "data": {
      "text/html": [
       "<div>\n",
       "<style scoped>\n",
       "    .dataframe tbody tr th:only-of-type {\n",
       "        vertical-align: middle;\n",
       "    }\n",
       "\n",
       "    .dataframe tbody tr th {\n",
       "        vertical-align: top;\n",
       "    }\n",
       "\n",
       "    .dataframe thead th {\n",
       "        text-align: right;\n",
       "    }\n",
       "</style>\n",
       "<table border=\"1\" class=\"dataframe\">\n",
       "  <thead>\n",
       "    <tr style=\"text-align: right;\">\n",
       "      <th></th>\n",
       "      <th>substance_id</th>\n",
       "      <th>substance_name</th>\n",
       "      <th>as_cas_number</th>\n",
       "      <th>substance_status</th>\n",
       "      <th>approval_date</th>\n",
       "      <th>expiry_date</th>\n",
       "      <th>risk_assessment</th>\n",
       "      <th>substance_category</th>\n",
       "      <th>as_is_group</th>\n",
       "      <th>as_micro_org</th>\n",
       "      <th>...</th>\n",
       "      <th>candidate_for_substitution_type</th>\n",
       "      <th>active_substance_part_of_group</th>\n",
       "      <th>active_substance_part_of_group_id</th>\n",
       "      <th>as_member_id</th>\n",
       "      <th>as_member_name</th>\n",
       "      <th>pesticide_residue_linked</th>\n",
       "      <th>pest_res_linked_annex</th>\n",
       "      <th>pest_res_linked_legislation</th>\n",
       "      <th>pest_res_linked_legislation_url</th>\n",
       "      <th>pest_res_mrl_webpage</th>\n",
       "    </tr>\n",
       "  </thead>\n",
       "  <tbody>\n",
       "    <tr>\n",
       "      <th>0</th>\n",
       "      <td>357</td>\n",
       "      <td>(E)-11-Tetradecen-1-yl acetate (SCLP Acetates)</td>\n",
       "      <td>33189-72-9</td>\n",
       "      <td>Approved</td>\n",
       "      <td>01/09/2022</td>\n",
       "      <td>30/08/2037</td>\n",
       "      <td>EFSA</td>\n",
       "      <td>AT - Attractant</td>\n",
       "      <td>No</td>\n",
       "      <td>No</td>\n",
       "      <td>...</td>\n",
       "      <td>None</td>\n",
       "      <td>Straight Chain Lepidopteran Pheromones (SCLPs)...</td>\n",
       "      <td>1530.0</td>\n",
       "      <td>374.0</td>\n",
       "      <td>(Z)-8-Dodecen-1-yl acetate (SCLP Actetates)</td>\n",
       "      <td>Straight Chain Lepidopteran Pheromones (SCLP)</td>\n",
       "      <td>Annex IV</td>\n",
       "      <td>Reg. (EU) 2023/1719</td>\n",
       "      <td>http://data.europa.eu/eli/reg/2023/1719/oj</td>\n",
       "      <td>https://ec.europa.eu/food/plant/pesticides/eu-...</td>\n",
       "    </tr>\n",
       "    <tr>\n",
       "      <th>1</th>\n",
       "      <td>689</td>\n",
       "      <td>Iminoctadine</td>\n",
       "      <td>13516-27-3</td>\n",
       "      <td>Not approved</td>\n",
       "      <td>None</td>\n",
       "      <td>None</td>\n",
       "      <td>None</td>\n",
       "      <td>FU - Fungicide</td>\n",
       "      <td>No</td>\n",
       "      <td>No</td>\n",
       "      <td>...</td>\n",
       "      <td>None</td>\n",
       "      <td>None</td>\n",
       "      <td>NaN</td>\n",
       "      <td>NaN</td>\n",
       "      <td>None</td>\n",
       "      <td>Default MRL of 0.01 mg/kg according to Art 18(...</td>\n",
       "      <td>None</td>\n",
       "      <td>None</td>\n",
       "      <td>None</td>\n",
       "      <td>None</td>\n",
       "    </tr>\n",
       "    <tr>\n",
       "      <th>2</th>\n",
       "      <td>859</td>\n",
       "      <td>Silthiofam</td>\n",
       "      <td>175217-20-6</td>\n",
       "      <td>Approved</td>\n",
       "      <td>01/07/2018</td>\n",
       "      <td>30/06/2033</td>\n",
       "      <td>EFSA</td>\n",
       "      <td>None</td>\n",
       "      <td>No</td>\n",
       "      <td>No</td>\n",
       "      <td>...</td>\n",
       "      <td>None</td>\n",
       "      <td>None</td>\n",
       "      <td>NaN</td>\n",
       "      <td>NaN</td>\n",
       "      <td>None</td>\n",
       "      <td>Silthiofam</td>\n",
       "      <td>Annex II</td>\n",
       "      <td>Reg. (EU) No 398/2014</td>\n",
       "      <td>http://eur-lex.europa.eu/legal-content/EN/TXT/...</td>\n",
       "      <td>https://ec.europa.eu/food/plant/pesticides/eu-...</td>\n",
       "    </tr>\n",
       "    <tr>\n",
       "      <th>3</th>\n",
       "      <td>699</td>\n",
       "      <td>Endosulfan</td>\n",
       "      <td>115-29-7</td>\n",
       "      <td>Not approved</td>\n",
       "      <td>None</td>\n",
       "      <td>None</td>\n",
       "      <td>None</td>\n",
       "      <td>IN - Insecticide</td>\n",
       "      <td>No</td>\n",
       "      <td>No</td>\n",
       "      <td>...</td>\n",
       "      <td>None</td>\n",
       "      <td>None</td>\n",
       "      <td>NaN</td>\n",
       "      <td>NaN</td>\n",
       "      <td>None</td>\n",
       "      <td>Endosulfan (sum of alpha- and beta-isomers and...</td>\n",
       "      <td>Annex III</td>\n",
       "      <td>Reg. (EC) No 839/2008</td>\n",
       "      <td>http://eur-lex.europa.eu/LexUriServ/LexUriServ...</td>\n",
       "      <td>https://ec.europa.eu/food/plant/pesticides/eu-...</td>\n",
       "    </tr>\n",
       "    <tr>\n",
       "      <th>4</th>\n",
       "      <td>1328</td>\n",
       "      <td>(E,Z)-7,9-Dodecadien-1-yl acetate (SCLP Acetates)</td>\n",
       "      <td>54364-62-4</td>\n",
       "      <td>Approved</td>\n",
       "      <td>01/09/2022</td>\n",
       "      <td>30/08/2037</td>\n",
       "      <td>EFSA</td>\n",
       "      <td>AT - Attractant</td>\n",
       "      <td>No</td>\n",
       "      <td>No</td>\n",
       "      <td>...</td>\n",
       "      <td>None</td>\n",
       "      <td>Straight Chain Lepidopteran Pheromones (SCLPs)...</td>\n",
       "      <td>1530.0</td>\n",
       "      <td>356.0</td>\n",
       "      <td>(Z,E)-9,12-Tetradecadien-1-yl acetate (SCLP  -...</td>\n",
       "      <td>Straight Chain Lepidopteran Pheromones (SCLP)</td>\n",
       "      <td>Annex IV</td>\n",
       "      <td>Reg. (EU) 2023/1719</td>\n",
       "      <td>http://data.europa.eu/eli/reg/2023/1719/oj</td>\n",
       "      <td>https://ec.europa.eu/food/plant/pesticides/eu-...</td>\n",
       "    </tr>\n",
       "  </tbody>\n",
       "</table>\n",
       "<p>5 rows × 46 columns</p>\n",
       "</div>"
      ],
      "text/plain": [
       "   substance_id                                     substance_name  \\\n",
       "0           357     (E)-11-Tetradecen-1-yl acetate (SCLP Acetates)   \n",
       "1           689                                       Iminoctadine   \n",
       "2           859                                         Silthiofam   \n",
       "3           699                                         Endosulfan   \n",
       "4          1328  (E,Z)-7,9-Dodecadien-1-yl acetate (SCLP Acetates)   \n",
       "\n",
       "  as_cas_number substance_status approval_date expiry_date risk_assessment  \\\n",
       "0    33189-72-9         Approved    01/09/2022  30/08/2037            EFSA   \n",
       "1    13516-27-3     Not approved          None        None            None   \n",
       "2   175217-20-6         Approved    01/07/2018  30/06/2033            EFSA   \n",
       "3      115-29-7     Not approved          None        None            None   \n",
       "4    54364-62-4         Approved    01/09/2022  30/08/2037            EFSA   \n",
       "\n",
       "  substance_category as_is_group as_micro_org  ...  \\\n",
       "0    AT - Attractant          No           No  ...   \n",
       "1     FU - Fungicide          No           No  ...   \n",
       "2               None          No           No  ...   \n",
       "3   IN - Insecticide          No           No  ...   \n",
       "4    AT - Attractant          No           No  ...   \n",
       "\n",
       "  candidate_for_substitution_type  \\\n",
       "0                            None   \n",
       "1                            None   \n",
       "2                            None   \n",
       "3                            None   \n",
       "4                            None   \n",
       "\n",
       "                      active_substance_part_of_group  \\\n",
       "0  Straight Chain Lepidopteran Pheromones (SCLPs)...   \n",
       "1                                               None   \n",
       "2                                               None   \n",
       "3                                               None   \n",
       "4  Straight Chain Lepidopteran Pheromones (SCLPs)...   \n",
       "\n",
       "  active_substance_part_of_group_id as_member_id  \\\n",
       "0                            1530.0        374.0   \n",
       "1                               NaN          NaN   \n",
       "2                               NaN          NaN   \n",
       "3                               NaN          NaN   \n",
       "4                            1530.0        356.0   \n",
       "\n",
       "                                      as_member_name  \\\n",
       "0        (Z)-8-Dodecen-1-yl acetate (SCLP Actetates)   \n",
       "1                                               None   \n",
       "2                                               None   \n",
       "3                                               None   \n",
       "4  (Z,E)-9,12-Tetradecadien-1-yl acetate (SCLP  -...   \n",
       "\n",
       "                            pesticide_residue_linked pest_res_linked_annex  \\\n",
       "0      Straight Chain Lepidopteran Pheromones (SCLP)              Annex IV   \n",
       "1  Default MRL of 0.01 mg/kg according to Art 18(...                  None   \n",
       "2                                         Silthiofam              Annex II   \n",
       "3  Endosulfan (sum of alpha- and beta-isomers and...             Annex III   \n",
       "4      Straight Chain Lepidopteran Pheromones (SCLP)              Annex IV   \n",
       "\n",
       "  pest_res_linked_legislation  \\\n",
       "0         Reg. (EU) 2023/1719   \n",
       "1                        None   \n",
       "2       Reg. (EU) No 398/2014   \n",
       "3       Reg. (EC) No 839/2008   \n",
       "4         Reg. (EU) 2023/1719   \n",
       "\n",
       "                     pest_res_linked_legislation_url  \\\n",
       "0         http://data.europa.eu/eli/reg/2023/1719/oj   \n",
       "1                                               None   \n",
       "2  http://eur-lex.europa.eu/legal-content/EN/TXT/...   \n",
       "3  http://eur-lex.europa.eu/LexUriServ/LexUriServ...   \n",
       "4         http://data.europa.eu/eli/reg/2023/1719/oj   \n",
       "\n",
       "                                pest_res_mrl_webpage  \n",
       "0  https://ec.europa.eu/food/plant/pesticides/eu-...  \n",
       "1                                               None  \n",
       "2  https://ec.europa.eu/food/plant/pesticides/eu-...  \n",
       "3  https://ec.europa.eu/food/plant/pesticides/eu-...  \n",
       "4  https://ec.europa.eu/food/plant/pesticides/eu-...  \n",
       "\n",
       "[5 rows x 46 columns]"
      ]
     },
     "execution_count": 12,
     "metadata": {},
     "output_type": "execute_result"
    }
   ],
   "source": [
    "df_pest = get_db_pest()\n",
    "df_pest.head()"
   ]
  },
  {
   "cell_type": "markdown",
   "id": "31b0676c",
   "metadata": {},
   "source": [
    "# Data Processing functions"
   ]
  },
  {
   "cell_type": "markdown",
   "id": "667c8740",
   "metadata": {},
   "source": [
    "The product_id and substance_id are added to the json. This info is then use to make an API call to the EU DB, to get the MRL limit associated with the specific product and substance. This info is appended to the json."
   ]
  },
  {
   "cell_type": "code",
   "execution_count": 13,
   "id": "6d67c54b",
   "metadata": {},
   "outputs": [],
   "source": [
    "from src.data_processing import enrich_json_ids\n",
    "from src.data_processing import add_mrl_limits\n",
    "from src.data_processing import print_conformity_report"
   ]
  },
  {
   "cell_type": "code",
   "execution_count": 14,
   "id": "ff8831be",
   "metadata": {},
   "outputs": [
    {
     "data": {
      "text/plain": [
       "{'Product name on the analysis report': 'Ananas origine Costa Rica 34-03',\n",
       " 'Product': 'Pineapple',\n",
       " 'Pesticide_molecules': [{'Molecule in the report': 'Ethephon',\n",
       "   'Molecule': 'Ethephon',\n",
       "   'Measured': '0.27',\n",
       "   'Unit': 'mg/kg',\n",
       "   'substance_id': 89},\n",
       "  {'Molecule in the report': 'Fludioxonil',\n",
       "   'Molecule': 'Fludioxonil',\n",
       "   'Measured': '0.038',\n",
       "   'Unit': 'mg/kg',\n",
       "   'substance_id': 37}],\n",
       " 'product_id': 81}"
      ]
     },
     "execution_count": 14,
     "metadata": {},
     "output_type": "execute_result"
    }
   ],
   "source": [
    "json_enriched = enrich_json_ids(json, df_prod, df_pest)\n",
    "json_enriched"
   ]
  },
  {
   "cell_type": "code",
   "execution_count": 15,
   "id": "87df11b4",
   "metadata": {},
   "outputs": [
    {
     "data": {
      "text/plain": [
       "{'Product name on the analysis report': 'Ananas origine Costa Rica 34-03',\n",
       " 'Product': 'Pineapple',\n",
       " 'Pesticide_molecules': [{'Molecule in the report': 'Ethephon',\n",
       "   'Molecule': 'Ethephon',\n",
       "   'Measured': '0.27',\n",
       "   'Unit': 'mg/kg',\n",
       "   'substance_id': 89,\n",
       "   'MRL_limit': '0.03'},\n",
       "  {'Molecule in the report': 'Fludioxonil',\n",
       "   'Molecule': 'Fludioxonil',\n",
       "   'Measured': '0.038',\n",
       "   'Unit': 'mg/kg',\n",
       "   'substance_id': 37,\n",
       "   'MRL_limit': '0.01'}],\n",
       " 'product_id': 81}"
      ]
     },
     "execution_count": 15,
     "metadata": {},
     "output_type": "execute_result"
    }
   ],
   "source": [
    "json_with_mrls = add_mrl_limits(json_enriched)\n",
    "json_with_mrls"
   ]
  },
  {
   "cell_type": "markdown",
   "id": "ff17d2ba",
   "metadata": {},
   "source": [
    "Once the json is ready with all the information, a report is generated, considering the analysis values and their relatives MRL limits. If the values are lower than their relative limits, the product is compliant, if they are higher the product is not compliant."
   ]
  },
  {
   "cell_type": "code",
   "execution_count": 16,
   "id": "81b3d111",
   "metadata": {},
   "outputs": [
    {
     "name": "stdout",
     "output_type": "stream",
     "text": [
      "Product - EU              Product - Analysis  Molecule - EU Molecule - Analysis Analysis_result MRL_limit    Compliant\n",
      "    Pineapple Ananas origine Costa Rica 34-03      Ethephon            Ethephon            0.27      0.03 Non Conforme\n",
      "    Pineapple Ananas origine Costa Rica 34-03   Fludioxonil         Fludioxonil           0.038      0.01 Non Conforme\n",
      "\n",
      "\n",
      "The product is not compliant\n"
     ]
    }
   ],
   "source": [
    "print_conformity_report(json_with_mrls)"
   ]
  },
  {
   "cell_type": "markdown",
   "id": "c2c735e6",
   "metadata": {},
   "source": [
    "# Langgraph"
   ]
  },
  {
   "cell_type": "markdown",
   "id": "60588bf0",
   "metadata": {},
   "source": [
    "All the previous functions are orchestrated using a langgraph workflow, to do everything automatically.\n",
    "\n",
    "The langgraph is build, creating a node per each function, and then connecting them. The output of the workflow is the final report."
   ]
  },
  {
   "cell_type": "code",
   "execution_count": 17,
   "id": "b4fb2842",
   "metadata": {},
   "outputs": [],
   "source": [
    "from src.langgraph_builder import build_workflow"
   ]
  },
  {
   "cell_type": "code",
   "execution_count": 18,
   "id": "37cc1567",
   "metadata": {},
   "outputs": [
    {
     "name": "stdout",
     "output_type": "stream",
     "text": [
      "pdf parsed\n",
      "Product - EU  Product - Analysis  Molecule - EU Molecule - Analysis Analysis_result MRL_limit    Compliant\n",
      "   pineapples       pinas - fruta      ethephon              etefon            0.52      0.03 Non Conforme\n",
      "\n",
      "\n",
      "The product is not compliant\n"
     ]
    }
   ],
   "source": [
    "app = build_workflow()\n",
    "\n",
    "# Graph execution\n",
    "result = app.invoke({\"pdf_path\": \"data/pdfs/Analysis-Example-2_B.pdf\",\n",
    "                    \"df_prod\": df_prod,\n",
    "                    \"df_pest\": df_pest\n",
    "                    })\n"
   ]
  },
  {
   "cell_type": "markdown",
   "id": "57b74c4f",
   "metadata": {},
   "source": [
    "Below the state of the graph is printed. Specifically, the text parsed from the pdf and the json created by the LLM and modified by the various tools."
   ]
  },
  {
   "cell_type": "code",
   "execution_count": 21,
   "id": "68a48955",
   "metadata": {},
   "outputs": [
    {
     "name": "stdout",
     "output_type": "stream",
     "text": [
      "o—\n",
      "\n",
      "oo =e\n",
      "eo; er &. =—— a =\n",
      "— eee See\n",
      "\n",
      "ln, agai\n",
      "—\n",
      "Tipo de muestra: pinas - fruta\n",
      "Referencia: Lote #1, Parcela #9\n",
      "\n",
      "Fecha de confirmacion: 26/07/2023\n",
      "Fecha ‘er reporte: 01/08/2023\n",
      "\n",
      "Periodo de andalisis: 26/07/2023 - 01/08/2023\n",
      "\n",
      "\n",
      "Muestra homogeneizada\n",
      "\n",
      "ETH_01_A - Método especifico para la determinacion de residuos de Etefon en productos vegetales y piensos Termminado 7\n",
      "por LC-MSMS - acreditado\n",
      "Sustancia Acr. Resultado Limites Unidad U\n",
      "(Espana)\n",
      "etefon A 0,52 2 mg/kg (b)\n",
      "\n",
      "GMS_01_D - Método multi-residuo para la cuantificaci6n de plaguicidas seleccionados en productos vegetales y Terminado 4\n",
      "piensos mediante GC-MSMS - acreditado\n",
      "\n",
      "LMS_01_D - Método multi-residuo para la cuantificacién de plaguicidas seleccionados en productos vegetales y Terminado 7\n",
      "piensos mediante LC-MSMS - acreditado\n",
      "\n",
      "Sustancia Acr. Resultado Limites Unidad U\n",
      "\n",
      "\n",
      "\n"
     ]
    }
   ],
   "source": [
    "print(result['text'])"
   ]
  },
  {
   "cell_type": "code",
   "execution_count": 22,
   "id": "51563a32",
   "metadata": {},
   "outputs": [
    {
     "name": "stdout",
     "output_type": "stream",
     "text": [
      "{'Product name on the analysis report': 'pinas - fruta', 'Product': 'pineapples', 'Pesticide_molecules': [{'Molecule in the report': 'etefon', 'Molecule': 'ethephon', 'Measured': '0.52', 'Unit': 'mg/kg', 'substance_id': 89, 'MRL_limit': '0.03'}], 'product_id': 81}\n"
     ]
    }
   ],
   "source": [
    "print(result['json_data'])"
   ]
  }
 ],
 "metadata": {
  "kernelspec": {
   "display_name": "venv",
   "language": "python",
   "name": "python3"
  },
  "language_info": {
   "codemirror_mode": {
    "name": "ipython",
    "version": 3
   },
   "file_extension": ".py",
   "mimetype": "text/x-python",
   "name": "python",
   "nbconvert_exporter": "python",
   "pygments_lexer": "ipython3",
   "version": "3.9.7"
  }
 },
 "nbformat": 4,
 "nbformat_minor": 5
}
